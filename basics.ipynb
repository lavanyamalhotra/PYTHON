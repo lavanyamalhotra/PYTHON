{
  "nbformat": 4,
  "nbformat_minor": 0,
  "metadata": {
    "colab": {
      "provenance": [],
      "authorship_tag": "ABX9TyPEY9BnV+Np5iU66D+ZSq8v",
      "include_colab_link": true
    },
    "kernelspec": {
      "name": "python3",
      "display_name": "Python 3"
    },
    "language_info": {
      "name": "python"
    }
  },
  "cells": [
    {
      "cell_type": "markdown",
      "metadata": {
        "id": "view-in-github",
        "colab_type": "text"
      },
      "source": [
        "<a href=\"https://colab.research.google.com/github/lavanyamalhotra/PYTHON/blob/main/basics.ipynb\" target=\"_parent\"><img src=\"https://colab.research.google.com/assets/colab-badge.svg\" alt=\"Open In Colab\"/></a>"
      ]
    },
    {
      "cell_type": "code",
      "source": [
        "## numpy array and basics\n"
      ],
      "metadata": {
        "id": "lykp9Pq5XrL9"
      },
      "execution_count": null,
      "outputs": []
    },
    {
      "cell_type": "code",
      "source": [
        "import numpy as np\n",
        "### creating array from list\n",
        "arr=np.array([1,2,3,4,5])\n",
        "print(\"1D array :\",arr)\n",
        "# Correcting the 2D array to have consistent row lengths\n",
        "arr2=np.array([[1,2,3],[4,5,6]]) # Added a 6 to the second row\n",
        "print(\"2D array :\",arr2)"
      ],
      "metadata": {
        "id": "ruxAOTAaYEEf"
      },
      "execution_count": null,
      "outputs": []
    },
    {
      "cell_type": "code",
      "source": [
        "### list vs numpy array\n",
        "py_list=[1,2,3]\n",
        "print(\"Python list multiplication\" , py_list*2)\n",
        "\n",
        "np_array=np.array([1,2,3]) #element wise multiplication\n",
        "print(\"Python list multiplication\" , np_array*2)"
      ],
      "metadata": {
        "colab": {
          "base_uri": "https://localhost:8080/"
        },
        "id": "1KXYbFIqZZX7",
        "outputId": "4217ef77-e98b-426e-ae86-79ac15b324cb"
      },
      "execution_count": null,
      "outputs": [
        {
          "output_type": "stream",
          "name": "stdout",
          "text": [
            "Python list multiplication [1, 2, 3, 1, 2, 3]\n",
            "Python list multiplication [2 4 6]\n"
          ]
        }
      ]
    },
    {
      "cell_type": "code",
      "source": [
        "import time\n",
        "start=time.time()\n",
        "py_list=[i*2 for i in range(1000000)]\n",
        "print(\"\\n List Operation time: \", time.time()-start)\n",
        "\n",
        "start=time.time()\n",
        "np_array=np.arange(1000000)*2\n",
        "print(\"\\n Numpy Operation time: \", time.time()-start)"
      ],
      "metadata": {
        "colab": {
          "base_uri": "https://localhost:8080/"
        },
        "id": "5dx3WiVpbTls",
        "outputId": "44d2df63-de04-47b8-a067-1935de8d0d49"
      },
      "execution_count": null,
      "outputs": [
        {
          "output_type": "stream",
          "name": "stdout",
          "text": [
            "\n",
            " List Operation time:  0.11686325073242188\n",
            "\n",
            " Numpy Operation time:  0.012328863143920898\n"
          ]
        }
      ]
    },
    {
      "cell_type": "code",
      "source": [
        "from collections.abc import Sequence\n",
        "## creating array from scratch\n",
        "zeroes=np.zeros((3,4))\n",
        "print(\"zero array : \\n\",zeroes)\n",
        "\n",
        "full=np.full((2,2),7)\n",
        "print(\"full array : \\n\",full)\n",
        "\n",
        "random = np.random.random((2,3))\n",
        "print(\"random array : \\n\",random)\n",
        "\n",
        "sequence=np.arange(0,11,2)\n",
        "print(\"sequence array : \\n\",sequence)"
      ],
      "metadata": {
        "colab": {
          "base_uri": "https://localhost:8080/"
        },
        "collapsed": true,
        "id": "TlsmjMK_cI0x",
        "outputId": "0734fd36-2175-4b28-b5ed-d45cc6d52455"
      },
      "execution_count": null,
      "outputs": [
        {
          "output_type": "stream",
          "name": "stdout",
          "text": [
            "zero array : \n",
            " [[0. 0. 0. 0.]\n",
            " [0. 0. 0. 0.]\n",
            " [0. 0. 0. 0.]]\n",
            "full array : \n",
            " [[7 7]\n",
            " [7 7]]\n",
            "random array : \n",
            " [[0.3777326  0.35124979 0.66361294]\n",
            " [0.13671657 0.22711983 0.2436526 ]]\n",
            "sequence array : \n",
            " [ 0  2  4  6  8 10]\n"
          ]
        }
      ]
    },
    {
      "cell_type": "code",
      "source": [
        "## vector matrix and tensor\n",
        "vector=np.array([1,2,3])\n",
        "print(\"Vector : \",vector)\n",
        "\n",
        "matrix=np.array([[1,2,3],\n",
        "                [4,5,6]])\n",
        "print(\"matrix :\",matrix)\n",
        "\n",
        "tensor=np.array([[[1,2],[3,4]],\n",
        "                 [[5,6],[7,8]]])\n",
        "print(\"tensor array :\",tensor)"
      ],
      "metadata": {
        "colab": {
          "base_uri": "https://localhost:8080/"
        },
        "id": "CJxX59nJ0zUQ",
        "outputId": "d7f75671-6707-485f-e475-34a27d84107b"
      },
      "execution_count": null,
      "outputs": [
        {
          "output_type": "stream",
          "name": "stdout",
          "text": [
            "Vector :  [1 2 3]\n",
            "matrix : [[1 2 3]\n",
            " [4 5 6]]\n",
            "tensor array : [[[1 2]\n",
            "  [3 4]]\n",
            "\n",
            " [[5 6]\n",
            "  [7 8]]]\n"
          ]
        }
      ]
    },
    {
      "cell_type": "code",
      "source": [
        "### array properties\n",
        "arr=np.array([[1,2,3],\n",
        "              [4,5,6]])\n",
        "print(\"Shape\",arr.shape)\n",
        "print(\"Dimension\",arr.ndim)\n",
        "print(\"Size\",arr.size)\n",
        "print(\"Data type \",arr.dtype)"
      ],
      "metadata": {
        "colab": {
          "base_uri": "https://localhost:8080/"
        },
        "id": "JHttIDHE163T",
        "outputId": "6768d483-dd45-4002-c43f-8e87f63e9a5d"
      },
      "execution_count": null,
      "outputs": [
        {
          "output_type": "stream",
          "name": "stdout",
          "text": [
            "Shape (2, 3)\n",
            "Dimension 2\n",
            "Size 6\n",
            "Data type  int64\n"
          ]
        }
      ]
    },
    {
      "cell_type": "code",
      "source": [
        "## array reshaping\n",
        "arr=np.arange(12)\n",
        "print(\"Original array\",arr)\n",
        "reshaped=arr.reshape((3,4))\n",
        "print(\"Reshaped \\n\",reshaped)\n",
        "\n",
        "flattened=reshaped.flatten()\n",
        "print(\"Flattended array\",flattened)\n",
        "\n",
        "#return view instead of copy\n",
        "raveled=reshaped.ravel()\n",
        "print(\"Raveld array\",raveled)"
      ],
      "metadata": {
        "colab": {
          "base_uri": "https://localhost:8080/"
        },
        "id": "LXAZjTtg2l8X",
        "outputId": "e4a5e5b1-e66c-4f09-f3e2-b85aeb6313af"
      },
      "execution_count": null,
      "outputs": [
        {
          "output_type": "stream",
          "name": "stdout",
          "text": [
            "Original array [ 0  1  2  3  4  5  6  7  8  9 10 11]\n",
            "Reshaped \n",
            " [[ 0  1  2  3]\n",
            " [ 4  5  6  7]\n",
            " [ 8  9 10 11]]\n",
            "Flattended array [ 0  1  2  3  4  5  6  7  8  9 10 11]\n",
            "Ravled array [ 0  1  2  3  4  5  6  7  8  9 10 11]\n"
          ]
        }
      ]
    }
  ]
}